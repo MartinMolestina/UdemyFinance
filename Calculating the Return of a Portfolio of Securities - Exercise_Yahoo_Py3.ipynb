{
 "cells": [
  {
   "cell_type": "markdown",
   "metadata": {},
   "source": [
    "## Calculating the Return of a Portfolio of Securities"
   ]
  },
  {
   "cell_type": "markdown",
   "metadata": {},
   "source": [
    "Download data for a portfolio composed of 5 stocks. Do it for British Petroleum, Ford, Exxon, Lincoln, and Apple for the period ‘2000-1-1’ until today."
   ]
  },
  {
   "cell_type": "code",
   "execution_count": 4,
   "metadata": {},
   "outputs": [],
   "source": [
    "# Required libriaries:\n",
    "from pandas_datareader import data as wb\n",
    "import numpy as np\n",
    "import pandas as pd\n",
    "import matplotlib.pyplot as plt"
   ]
  },
  {
   "cell_type": "code",
   "execution_count": 7,
   "metadata": {},
   "outputs": [],
   "source": [
    "tickers = ['BP','F','XOM','LNC','AAPL']\n",
    "portfolio = pd.DataFrame()\n",
    "for t in tickers:\n",
    "    portfolio[t] = wb.DataReader(t, data_source='yahoo', start='2000-1-1')['Adj Close']"
   ]
  },
  {
   "cell_type": "markdown",
   "metadata": {},
   "source": [
    "### Normalization to 100:\n",
    "\n",
    "$$\n",
    "\\frac {P_t}{P_0} * 100\n",
    "$$"
   ]
  },
  {
   "cell_type": "markdown",
   "metadata": {},
   "source": [
    "Normalize to a hundred and plot the data on a graph (you can apply the .loc() or the .iloc() method). "
   ]
  },
  {
   "cell_type": "code",
   "execution_count": 10,
   "metadata": {},
   "outputs": [
    {
     "name": "stdout",
     "output_type": "stream",
     "text": [
      "<class 'pandas.core.frame.DataFrame'>\n",
      "DatetimeIndex: 5090 entries, 2000-01-03 to 2020-03-26\n",
      "Data columns (total 5 columns):\n",
      "BP      5090 non-null float64\n",
      "F       5090 non-null float64\n",
      "XOM     5090 non-null float64\n",
      "LNC     5090 non-null float64\n",
      "AAPL    5090 non-null float64\n",
      "dtypes: float64(5)\n",
      "memory usage: 238.6 KB\n",
      "None\n"
     ]
    },
    {
     "data": {
      "text/html": [
       "<div>\n",
       "<style scoped>\n",
       "    .dataframe tbody tr th:only-of-type {\n",
       "        vertical-align: middle;\n",
       "    }\n",
       "\n",
       "    .dataframe tbody tr th {\n",
       "        vertical-align: top;\n",
       "    }\n",
       "\n",
       "    .dataframe thead th {\n",
       "        text-align: right;\n",
       "    }\n",
       "</style>\n",
       "<table border=\"1\" class=\"dataframe\">\n",
       "  <thead>\n",
       "    <tr style=\"text-align: right;\">\n",
       "      <th></th>\n",
       "      <th>BP</th>\n",
       "      <th>F</th>\n",
       "      <th>XOM</th>\n",
       "      <th>LNC</th>\n",
       "      <th>AAPL</th>\n",
       "    </tr>\n",
       "    <tr>\n",
       "      <th>Date</th>\n",
       "      <th></th>\n",
       "      <th></th>\n",
       "      <th></th>\n",
       "      <th></th>\n",
       "      <th></th>\n",
       "    </tr>\n",
       "  </thead>\n",
       "  <tbody>\n",
       "    <tr>\n",
       "      <th>2000-01-03</th>\n",
       "      <td>23.642570</td>\n",
       "      <td>15.325129</td>\n",
       "      <td>21.549223</td>\n",
       "      <td>24.672104</td>\n",
       "      <td>3.470226</td>\n",
       "    </tr>\n",
       "    <tr>\n",
       "      <th>2000-01-04</th>\n",
       "      <td>23.516939</td>\n",
       "      <td>14.813073</td>\n",
       "      <td>21.136469</td>\n",
       "      <td>23.961544</td>\n",
       "      <td>3.177650</td>\n",
       "    </tr>\n",
       "    <tr>\n",
       "      <th>2000-01-05</th>\n",
       "      <td>24.320940</td>\n",
       "      <td>14.867936</td>\n",
       "      <td>22.288738</td>\n",
       "      <td>23.132566</td>\n",
       "      <td>3.224152</td>\n",
       "    </tr>\n",
       "    <tr>\n",
       "      <th>2000-01-06</th>\n",
       "      <td>24.371193</td>\n",
       "      <td>14.886230</td>\n",
       "      <td>23.441015</td>\n",
       "      <td>23.555931</td>\n",
       "      <td>2.945139</td>\n",
       "    </tr>\n",
       "    <tr>\n",
       "      <th>2000-01-07</th>\n",
       "      <td>23.918947</td>\n",
       "      <td>15.983484</td>\n",
       "      <td>23.372227</td>\n",
       "      <td>24.152792</td>\n",
       "      <td>3.084645</td>\n",
       "    </tr>\n",
       "  </tbody>\n",
       "</table>\n",
       "</div>"
      ],
      "text/plain": [
       "                   BP          F        XOM        LNC      AAPL\n",
       "Date                                                            \n",
       "2000-01-03  23.642570  15.325129  21.549223  24.672104  3.470226\n",
       "2000-01-04  23.516939  14.813073  21.136469  23.961544  3.177650\n",
       "2000-01-05  24.320940  14.867936  22.288738  23.132566  3.224152\n",
       "2000-01-06  24.371193  14.886230  23.441015  23.555931  2.945139\n",
       "2000-01-07  23.918947  15.983484  23.372227  24.152792  3.084645"
      ]
     },
     "metadata": {},
     "output_type": "display_data"
    },
    {
     "data": {
      "text/html": [
       "<div>\n",
       "<style scoped>\n",
       "    .dataframe tbody tr th:only-of-type {\n",
       "        vertical-align: middle;\n",
       "    }\n",
       "\n",
       "    .dataframe tbody tr th {\n",
       "        vertical-align: top;\n",
       "    }\n",
       "\n",
       "    .dataframe thead th {\n",
       "        text-align: right;\n",
       "    }\n",
       "</style>\n",
       "<table border=\"1\" class=\"dataframe\">\n",
       "  <thead>\n",
       "    <tr style=\"text-align: right;\">\n",
       "      <th></th>\n",
       "      <th>BP</th>\n",
       "      <th>F</th>\n",
       "      <th>XOM</th>\n",
       "      <th>LNC</th>\n",
       "      <th>AAPL</th>\n",
       "    </tr>\n",
       "    <tr>\n",
       "      <th>Date</th>\n",
       "      <th></th>\n",
       "      <th></th>\n",
       "      <th></th>\n",
       "      <th></th>\n",
       "      <th></th>\n",
       "    </tr>\n",
       "  </thead>\n",
       "  <tbody>\n",
       "    <tr>\n",
       "      <th>2020-03-20</th>\n",
       "      <td>17.389999</td>\n",
       "      <td>4.33</td>\n",
       "      <td>32.740002</td>\n",
       "      <td>17.059999</td>\n",
       "      <td>229.240005</td>\n",
       "    </tr>\n",
       "    <tr>\n",
       "      <th>2020-03-23</th>\n",
       "      <td>18.190001</td>\n",
       "      <td>4.01</td>\n",
       "      <td>31.450001</td>\n",
       "      <td>17.350000</td>\n",
       "      <td>224.369995</td>\n",
       "    </tr>\n",
       "    <tr>\n",
       "      <th>2020-03-24</th>\n",
       "      <td>22.120001</td>\n",
       "      <td>4.95</td>\n",
       "      <td>35.439999</td>\n",
       "      <td>22.850000</td>\n",
       "      <td>246.880005</td>\n",
       "    </tr>\n",
       "    <tr>\n",
       "      <th>2020-03-25</th>\n",
       "      <td>24.290001</td>\n",
       "      <td>5.39</td>\n",
       "      <td>37.290001</td>\n",
       "      <td>25.090000</td>\n",
       "      <td>245.520004</td>\n",
       "    </tr>\n",
       "    <tr>\n",
       "      <th>2020-03-26</th>\n",
       "      <td>24.420000</td>\n",
       "      <td>5.25</td>\n",
       "      <td>38.820000</td>\n",
       "      <td>28.770000</td>\n",
       "      <td>258.440002</td>\n",
       "    </tr>\n",
       "  </tbody>\n",
       "</table>\n",
       "</div>"
      ],
      "text/plain": [
       "                   BP     F        XOM        LNC        AAPL\n",
       "Date                                                         \n",
       "2020-03-20  17.389999  4.33  32.740002  17.059999  229.240005\n",
       "2020-03-23  18.190001  4.01  31.450001  17.350000  224.369995\n",
       "2020-03-24  22.120001  4.95  35.439999  22.850000  246.880005\n",
       "2020-03-25  24.290001  5.39  37.290001  25.090000  245.520004\n",
       "2020-03-26  24.420000  5.25  38.820000  28.770000  258.440002"
      ]
     },
     "metadata": {},
     "output_type": "display_data"
    }
   ],
   "source": [
    "print((portfolio.info()))\n",
    "display(portfolio.head())\n",
    "display(portfolio.tail())"
   ]
  },
  {
   "cell_type": "code",
   "execution_count": 12,
   "metadata": {},
   "outputs": [
    {
     "data": {
      "image/png": "[encoded data removed]",
      "text/plain": [
       "<Figure size 432x288 with 1 Axes>"
      ]
     },
     "metadata": {
      "needs_background": "light"
     },
     "output_type": "display_data"
    }
   ],
   "source": [
    "(portfolio / portfolio.iloc[0] * 100).plot()\n",
    "plt.show()"
   ]
  },
  {
   "cell_type": "markdown",
   "metadata": {},
   "source": [
    "How would you interpret the behavior of the stocks? Just by looking at the chart, would you be able to create a portfolio that provides a solid return on investment?"
   ]
  },
  {
   "cell_type": "markdown",
   "metadata": {},
   "source": [
    "*****"
   ]
  },
  {
   "cell_type": "markdown",
   "metadata": {},
   "source": [
    "### Calculating the Return of a Portfolio of Securities"
   ]
  },
  {
   "cell_type": "markdown",
   "metadata": {},
   "source": [
    "Obtain the simple return of the securities in the portfolio and store the results in a new table."
   ]
  },
  {
   "cell_type": "code",
   "execution_count": 13,
   "metadata": {},
   "outputs": [
    {
     "data": {
      "text/html": [
       "<div>\n",
       "<style scoped>\n",
       "    .dataframe tbody tr th:only-of-type {\n",
       "        vertical-align: middle;\n",
       "    }\n",
       "\n",
       "    .dataframe tbody tr th {\n",
       "        vertical-align: top;\n",
       "    }\n",
       "\n",
       "    .dataframe thead th {\n",
       "        text-align: right;\n",
       "    }\n",
       "</style>\n",
       "<table border=\"1\" class=\"dataframe\">\n",
       "  <thead>\n",
       "    <tr style=\"text-align: right;\">\n",
       "      <th></th>\n",
       "      <th>BP</th>\n",
       "      <th>F</th>\n",
       "      <th>XOM</th>\n",
       "      <th>LNC</th>\n",
       "      <th>AAPL</th>\n",
       "    </tr>\n",
       "    <tr>\n",
       "      <th>Date</th>\n",
       "      <th></th>\n",
       "      <th></th>\n",
       "      <th></th>\n",
       "      <th></th>\n",
       "      <th></th>\n",
       "    </tr>\n",
       "  </thead>\n",
       "  <tbody>\n",
       "    <tr>\n",
       "      <th>2000-01-03</th>\n",
       "      <td>NaN</td>\n",
       "      <td>NaN</td>\n",
       "      <td>NaN</td>\n",
       "      <td>NaN</td>\n",
       "      <td>NaN</td>\n",
       "    </tr>\n",
       "    <tr>\n",
       "      <th>2000-01-04</th>\n",
       "      <td>-0.005314</td>\n",
       "      <td>-0.033413</td>\n",
       "      <td>-0.019154</td>\n",
       "      <td>-0.028800</td>\n",
       "      <td>-0.084310</td>\n",
       "    </tr>\n",
       "    <tr>\n",
       "      <th>2000-01-05</th>\n",
       "      <td>0.034188</td>\n",
       "      <td>0.003704</td>\n",
       "      <td>0.054516</td>\n",
       "      <td>-0.034596</td>\n",
       "      <td>0.014634</td>\n",
       "    </tr>\n",
       "    <tr>\n",
       "      <th>2000-01-06</th>\n",
       "      <td>0.002066</td>\n",
       "      <td>0.001230</td>\n",
       "      <td>0.051698</td>\n",
       "      <td>0.018302</td>\n",
       "      <td>-0.086538</td>\n",
       "    </tr>\n",
       "    <tr>\n",
       "      <th>2000-01-07</th>\n",
       "      <td>-0.018557</td>\n",
       "      <td>0.073709</td>\n",
       "      <td>-0.002935</td>\n",
       "      <td>0.025338</td>\n",
       "      <td>0.047368</td>\n",
       "    </tr>\n",
       "  </tbody>\n",
       "</table>\n",
       "</div>"
      ],
      "text/plain": [
       "                  BP         F       XOM       LNC      AAPL\n",
       "Date                                                        \n",
       "2000-01-03       NaN       NaN       NaN       NaN       NaN\n",
       "2000-01-04 -0.005314 -0.033413 -0.019154 -0.028800 -0.084310\n",
       "2000-01-05  0.034188  0.003704  0.054516 -0.034596  0.014634\n",
       "2000-01-06  0.002066  0.001230  0.051698  0.018302 -0.086538\n",
       "2000-01-07 -0.018557  0.073709 -0.002935  0.025338  0.047368"
      ]
     },
     "execution_count": 13,
     "metadata": {},
     "output_type": "execute_result"
    }
   ],
   "source": [
    "returns = (portfolio / portfolio.shift(1)) - 1\n",
    "returns.head()"
   ]
  },
  {
   "cell_type": "markdown",
   "metadata": {},
   "source": [
    "First, assume you would like to create an equally-weighted portfolio. Create the array, naming it “weights”."
   ]
  },
  {
   "cell_type": "code",
   "execution_count": 14,
   "metadata": {},
   "outputs": [],
   "source": [
    "weights = np.array([0.20, 0.20, 0.20, 0.20, 0.20])"
   ]
  },
  {
   "cell_type": "markdown",
   "metadata": {},
   "source": [
    "Obtain the annual returns of each of the stocks and then calculate the dot product of these returns and the weights."
   ]
  },
  {
   "cell_type": "code",
   "execution_count": 15,
   "metadata": {},
   "outputs": [
    {
     "data": {
      "text/plain": [
       "BP      0.043473\n",
       "F       0.034264\n",
       "XOM     0.059539\n",
       "LNC     0.147904\n",
       "AAPL    0.297903\n",
       "dtype: float64"
      ]
     },
     "execution_count": 15,
     "metadata": {},
     "output_type": "execute_result"
    }
   ],
   "source": [
    "annual_returns = returns.mean() * 250\n",
    "annual_returns"
   ]
  },
  {
   "cell_type": "code",
   "execution_count": 17,
   "metadata": {},
   "outputs": [],
   "source": [
    "portf_returns = np.dot(annual_returns, weights)"
   ]
  },
  {
   "cell_type": "markdown",
   "metadata": {},
   "source": [
    "Transform the result into a percentage form. "
   ]
  },
  {
   "cell_type": "code",
   "execution_count": 20,
   "metadata": {},
   "outputs": [
    {
     "name": "stdout",
     "output_type": "stream",
     "text": [
      "The mean annual return of the portfolio is: 11.66%\n"
     ]
    }
   ],
   "source": [
    "print('The mean annual return of the portfolio is: ' + str(round(portf_returns*100,2)) + '%')"
   ]
  },
  {
   "cell_type": "markdown",
   "metadata": {},
   "source": [
    "Is the return of this portfolio satisfactory?"
   ]
  }
 ],
 "metadata": {
  "kernelspec": {
   "display_name": "Python 3",
   "language": "python",
   "name": "python3"
  },
  "language_info": {
   "codemirror_mode": {
    "name": "ipython",
    "version": 3
   },
   "file_extension": ".py",
   "mimetype": "text/x-python",
   "name": "python",
   "nbconvert_exporter": "python",
   "pygments_lexer": "ipython3",
   "version": "3.7.5"
  }
 },
 "nbformat": 4,
 "nbformat_minor": 2
}
